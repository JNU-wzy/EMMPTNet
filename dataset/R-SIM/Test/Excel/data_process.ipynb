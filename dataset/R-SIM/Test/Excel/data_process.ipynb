{
 "cells": [
  {
   "cell_type": "code",
   "outputs": [],
   "source": [
    "import pandas as pd\n",
    "\n",
    "# 读取Excel文件为df\n",
    "df = pd.read_excel(\"Viral_RNA_dataset_v1.xlsx\") # 替换为实际文件路径\n",
    "\n",
    "# 初始化一个空的列表来存储重构后的数据\n",
    "reconstructed_data = []\n",
    "\n",
    "# 定义一个辅助函数来清理pKd列的值\n",
    "def clean_pkd_value(value):\n",
    "    if pd.isna(value):\n",
    "        return value\n",
    "    # 去除换行符和空格\n",
    "    return str(value).replace('\\n', '').replace('\\r', '').strip()\n",
    "\n",
    "# 遍历DataFrame的每一行\n",
    "for i in range(len(df)):\n",
    "    row = df.iloc[i]\n",
    "    df.at[i, 'pKd'] = clean_pkd_value(df.at[i, 'pKd'])  # 清理pKd值\n",
    "\n",
    "    if i > 0 and (pd.isna(row['Entry_ID']) or row['Entry_ID'] == reconstructed_data[-1]['Entry_ID']):\n",
    "        # 如果当前行的Entry_ID为空或与前一行相同，则合并数据\n",
    "        for col in df.columns:\n",
    "            if pd.notna(row[col]):\n",
    "                # 对于字符串类型的列，合并数据\n",
    "                if isinstance(reconstructed_data[-1][col], str) and isinstance(row[col], str):\n",
    "                    reconstructed_data[-1][col] += ' ' + row[col]\n",
    "                # 对于其他类型的数据，取最新的非空值\n",
    "                else:\n",
    "                    reconstructed_data[-1][col] = row[col] if pd.notna(row[col]) else reconstructed_data[-1][col]\n",
    "    else:\n",
    "        # 如果是新的Entry_ID或者是第一行，则添加当前行到结果列表\n",
    "        reconstructed_data.append(row.to_dict())\n",
    "\n",
    "# 使用pd.concat将列表转换为DataFrame\n",
    "new_df = pd.concat([pd.DataFrame([data]) for data in reconstructed_data], ignore_index=True)\n",
    "\n",
    "# new_df 现在包含了重构后的\n"
   ],
   "metadata": {
    "collapsed": false,
    "ExecuteTime": {
     "end_time": "2024-04-01T02:37:01.947139500Z",
     "start_time": "2024-04-01T02:37:01.851459400Z"
    }
   },
   "id": "1ffff58da9314636",
   "execution_count": 32
  },
  {
   "cell_type": "code",
   "outputs": [
    {
     "name": "stderr",
     "output_type": "stream",
     "text": [
      "C:\\Users\\HZ\\AppData\\Local\\Temp\\ipykernel_23200\\3480321005.py:10: FutureWarning: DataFrame.applymap has been deprecated. Use DataFrame.map instead.\n",
      "  new_df = new_df.applymap(clean_whitespace)\n"
     ]
    },
    {
     "data": {
      "text/plain": "    Entry_ID                                             SMILES  \\\n0      204.0  CC1C(C(C(C(O1)OC2C3CC#CC4C(O4)(C#CC3=CC2OC(=O)...   \n1      205.0  c12c(cc(cc1C)OC)[C@@]1(C(=O)C=C2)\\nC(=O)O[C@@H...   \n2      206.0  c12c(cccc1)[C@]1(C(=O)C=C2)\\n[C@@H](O[C@@H]2[C...   \n3      207.0  c12c(cccc1)[C@]1([C@@H]\\n(C=C2)O[C@H]2[C@\\n@H]...   \n4      208.0  c12c(cc(cc1)OC)[C@@]1(C(=O)C=C2)C=C[C@@H]2[C@@...   \n..       ...                                                ...   \n90     863.0  C1C(C(C(C(C1N)OC2C(C(C(C(O2)CN)O)O)\\nN)OC3C(C(...   \n91     864.0  C1C(C(C(C(C1N)OC2C(C(C(C(O2)CN)O)O)\\nN)OC3C(C(...   \n92     865.0  C1C(C(C(C(C1N)OC2C(C(C(C(O2)CN)O)O)\\nN)OC3C(C(...   \n93     866.0  C1C(C(C(C(C1N)OC2C(C(C(C(O2)CN)O)O)\\nN)OC3C(C(...   \n94     867.0  C1C(C(C(C(C1N)OC2C(C(C(C(O2)CN)O)O)\\nN)OC3C(C(...   \n\n                 Target_RNA_sequence  \\\n0     GGCCAGAUUGAGCCUGGGAGCUCUCUGGCC   \n1     GGCCAGAUUGAGCCUGGGAGCUCUCUGGCC   \n2     GGCCAGAUUGAGCCUGGGAGCUCUCUGGCC   \n3     GGCCAGAUUGAGCCUGGGAGCUCUCUGGCC   \n4     GGCCAGAUUGAGCCUGGGAGCUCUCUGGCC   \n..                               ...   \n90    GGUGGGCGCAGCUUCGGCUGCGCAACCACC   \n91   GGUGGGCGCAGCUUCGGCUGCGCAAACCACC   \n92  GGUGGGCGCAGCUUCGGCUGCGCAAAACCACC   \n93    GGUGGGCGCAGCUUCGGCUGCGCGGCCACC   \n94    GGUGGGCGCAGCUUCGGCUGCGCUUCCACC   \n\n                                Molecule_name     Molecule_ID  \\\n0                            neocarzinostatin  Target_lig_148   \n1   Neocarzinostatin_chromophore_derivative_1  Target_lig_149   \n2   Neocarzinostatin_chromophore_derivative_2  Target_lig_150   \n3   Neocarzinostatin_chromophore_derivative_3  Target_lig_151   \n4   Neocarzinostatin_chromophore_derivative_5  Target_lig_152   \n..                                        ...             ...   \n90                                   Neomycin    Target_lig_4   \n91                                   Neomycin    Target_lig_4   \n92                                   Neomycin    Target_lig_4   \n93                                   Neomycin    Target_lig_4   \n94                                   Neomycin    Target_lig_4   \n\n    Target_RNA_ name Target_RNA\\n_ID                   pKd  \n0   RNA_Str_HIV-2TAR       Target_20  4.85387\\n1964321\\n76  \n1   RNA_Str_HIV-2TAR       Target_20  4.85387\\n1964321\\n76  \n2   RNA_Str_HIV-2TAR       Target_20  4.85387\\n1964321\\n76  \n3   RNA_Str_HIV-2TAR       Target_20  4.88605\\n6647693\\n16  \n4   RNA_Str_HIV-2TAR       Target_20  5.09691\\n0013008\\n06  \n..               ...             ...                   ...  \n90             RRE11       Target_91  6.26760\\n6240177\\n03  \n91             RRE12       Target_92  6.18708\\n6643357\\n14  \n92             RRE13       Target_93  6.21467\\n0164989\\n23  \n93             RRE14       Target_94  6.35654\\n7323513\\n81  \n94             RRE15       Target_95   6.28399\\n6656365\\n2  \n\n[95 rows x 8 columns]",
      "text/html": "<div>\n<style scoped>\n    .dataframe tbody tr th:only-of-type {\n        vertical-align: middle;\n    }\n\n    .dataframe tbody tr th {\n        vertical-align: top;\n    }\n\n    .dataframe thead th {\n        text-align: right;\n    }\n</style>\n<table border=\"1\" class=\"dataframe\">\n  <thead>\n    <tr style=\"text-align: right;\">\n      <th></th>\n      <th>Entry_ID</th>\n      <th>SMILES</th>\n      <th>Target_RNA_sequence</th>\n      <th>Molecule_name</th>\n      <th>Molecule_ID</th>\n      <th>Target_RNA_ name</th>\n      <th>Target_RNA\\n_ID</th>\n      <th>pKd</th>\n    </tr>\n  </thead>\n  <tbody>\n    <tr>\n      <th>0</th>\n      <td>204.0</td>\n      <td>CC1C(C(C(C(O1)OC2C3CC#CC4C(O4)(C#CC3=CC2OC(=O)...</td>\n      <td>GGCCAGAUUGAGCCUGGGAGCUCUCUGGCC</td>\n      <td>neocarzinostatin</td>\n      <td>Target_lig_148</td>\n      <td>RNA_Str_HIV-2TAR</td>\n      <td>Target_20</td>\n      <td>4.85387\\n1964321\\n76</td>\n    </tr>\n    <tr>\n      <th>1</th>\n      <td>205.0</td>\n      <td>c12c(cc(cc1C)OC)[C@@]1(C(=O)C=C2)\\nC(=O)O[C@@H...</td>\n      <td>GGCCAGAUUGAGCCUGGGAGCUCUCUGGCC</td>\n      <td>Neocarzinostatin_chromophore_derivative_1</td>\n      <td>Target_lig_149</td>\n      <td>RNA_Str_HIV-2TAR</td>\n      <td>Target_20</td>\n      <td>4.85387\\n1964321\\n76</td>\n    </tr>\n    <tr>\n      <th>2</th>\n      <td>206.0</td>\n      <td>c12c(cccc1)[C@]1(C(=O)C=C2)\\n[C@@H](O[C@@H]2[C...</td>\n      <td>GGCCAGAUUGAGCCUGGGAGCUCUCUGGCC</td>\n      <td>Neocarzinostatin_chromophore_derivative_2</td>\n      <td>Target_lig_150</td>\n      <td>RNA_Str_HIV-2TAR</td>\n      <td>Target_20</td>\n      <td>4.85387\\n1964321\\n76</td>\n    </tr>\n    <tr>\n      <th>3</th>\n      <td>207.0</td>\n      <td>c12c(cccc1)[C@]1([C@@H]\\n(C=C2)O[C@H]2[C@\\n@H]...</td>\n      <td>GGCCAGAUUGAGCCUGGGAGCUCUCUGGCC</td>\n      <td>Neocarzinostatin_chromophore_derivative_3</td>\n      <td>Target_lig_151</td>\n      <td>RNA_Str_HIV-2TAR</td>\n      <td>Target_20</td>\n      <td>4.88605\\n6647693\\n16</td>\n    </tr>\n    <tr>\n      <th>4</th>\n      <td>208.0</td>\n      <td>c12c(cc(cc1)OC)[C@@]1(C(=O)C=C2)C=C[C@@H]2[C@@...</td>\n      <td>GGCCAGAUUGAGCCUGGGAGCUCUCUGGCC</td>\n      <td>Neocarzinostatin_chromophore_derivative_5</td>\n      <td>Target_lig_152</td>\n      <td>RNA_Str_HIV-2TAR</td>\n      <td>Target_20</td>\n      <td>5.09691\\n0013008\\n06</td>\n    </tr>\n    <tr>\n      <th>...</th>\n      <td>...</td>\n      <td>...</td>\n      <td>...</td>\n      <td>...</td>\n      <td>...</td>\n      <td>...</td>\n      <td>...</td>\n      <td>...</td>\n    </tr>\n    <tr>\n      <th>90</th>\n      <td>863.0</td>\n      <td>C1C(C(C(C(C1N)OC2C(C(C(C(O2)CN)O)O)\\nN)OC3C(C(...</td>\n      <td>GGUGGGCGCAGCUUCGGCUGCGCAACCACC</td>\n      <td>Neomycin</td>\n      <td>Target_lig_4</td>\n      <td>RRE11</td>\n      <td>Target_91</td>\n      <td>6.26760\\n6240177\\n03</td>\n    </tr>\n    <tr>\n      <th>91</th>\n      <td>864.0</td>\n      <td>C1C(C(C(C(C1N)OC2C(C(C(C(O2)CN)O)O)\\nN)OC3C(C(...</td>\n      <td>GGUGGGCGCAGCUUCGGCUGCGCAAACCACC</td>\n      <td>Neomycin</td>\n      <td>Target_lig_4</td>\n      <td>RRE12</td>\n      <td>Target_92</td>\n      <td>6.18708\\n6643357\\n14</td>\n    </tr>\n    <tr>\n      <th>92</th>\n      <td>865.0</td>\n      <td>C1C(C(C(C(C1N)OC2C(C(C(C(O2)CN)O)O)\\nN)OC3C(C(...</td>\n      <td>GGUGGGCGCAGCUUCGGCUGCGCAAAACCACC</td>\n      <td>Neomycin</td>\n      <td>Target_lig_4</td>\n      <td>RRE13</td>\n      <td>Target_93</td>\n      <td>6.21467\\n0164989\\n23</td>\n    </tr>\n    <tr>\n      <th>93</th>\n      <td>866.0</td>\n      <td>C1C(C(C(C(C1N)OC2C(C(C(C(O2)CN)O)O)\\nN)OC3C(C(...</td>\n      <td>GGUGGGCGCAGCUUCGGCUGCGCGGCCACC</td>\n      <td>Neomycin</td>\n      <td>Target_lig_4</td>\n      <td>RRE14</td>\n      <td>Target_94</td>\n      <td>6.35654\\n7323513\\n81</td>\n    </tr>\n    <tr>\n      <th>94</th>\n      <td>867.0</td>\n      <td>C1C(C(C(C(C1N)OC2C(C(C(C(O2)CN)O)O)\\nN)OC3C(C(...</td>\n      <td>GGUGGGCGCAGCUUCGGCUGCGCUUCCACC</td>\n      <td>Neomycin</td>\n      <td>Target_lig_4</td>\n      <td>RRE15</td>\n      <td>Target_95</td>\n      <td>6.28399\\n6656365\\n2</td>\n    </tr>\n  </tbody>\n</table>\n<p>95 rows × 8 columns</p>\n</div>"
     },
     "execution_count": 33,
     "metadata": {},
     "output_type": "execute_result"
    }
   ],
   "source": [
    "import pandas as pd\n",
    "\n",
    "# 定义一个辅助函数来清理单元格中的空格\n",
    "def clean_whitespace(value):\n",
    "    if isinstance(value, str):  # 确保只处理字符串类型的数据\n",
    "        return value.replace(\" \", \"\")  # 移除字符串中的所有空格\n",
    "    return value\n",
    "\n",
    "# 应用清理函数到整个DataFrame\n",
    "new_df = new_df.applymap(clean_whitespace)\n",
    "\n",
    "# 继续其他数据处理...\n",
    "new_df\n"
   ],
   "metadata": {
    "collapsed": false,
    "ExecuteTime": {
     "end_time": "2024-04-01T02:37:02.350162800Z",
     "start_time": "2024-04-01T02:37:02.329233Z"
    }
   },
   "id": "88c849babc52abaa",
   "execution_count": 33
  },
  {
   "cell_type": "code",
   "outputs": [],
   "source": [
    "output_file_path = 'Viral_RNA.xlsx'  # 指定新的文件路径和文件名\n",
    "new_df.to_excel(output_file_path, index=False)"
   ],
   "metadata": {
    "collapsed": false,
    "ExecuteTime": {
     "end_time": "2024-04-01T02:37:02.956002700Z",
     "start_time": "2024-04-01T02:37:02.927098900Z"
    }
   },
   "id": "10d1a573f0e2496c",
   "execution_count": 34
  },
  {
   "cell_type": "code",
   "outputs": [],
   "source": [],
   "metadata": {
    "collapsed": false
   },
   "id": "cc8cd87ca9669a6b"
  }
 ],
 "metadata": {
  "kernelspec": {
   "display_name": "Python 3",
   "language": "python",
   "name": "python3"
  },
  "language_info": {
   "codemirror_mode": {
    "name": "ipython",
    "version": 2
   },
   "file_extension": ".py",
   "mimetype": "text/x-python",
   "name": "python",
   "nbconvert_exporter": "python",
   "pygments_lexer": "ipython2",
   "version": "2.7.6"
  }
 },
 "nbformat": 4,
 "nbformat_minor": 5
}
